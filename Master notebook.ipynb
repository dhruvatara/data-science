{
 "cells": [
  {
   "cell_type": "code",
   "execution_count": 5,
   "metadata": {},
   "outputs": [
    {
     "data": {
      "text/plain": [
       "                       234\n",
       "manufacturer    volkswagen\n",
       "model               passat\n",
       "displ                  3.6\n",
       "year                  2008\n",
       "cyl                      6\n",
       "trans             auto(s6)\n",
       "drv                      f\n",
       "cty                     17\n",
       "hwy                     26\n",
       "fl                       p\n",
       "class              midsize\n",
       "dtype: object"
      ]
     },
     "execution_count": 5,
     "metadata": {},
     "output_type": "execute_result"
    }
   ],
   "source": [
    "#this notebook is a compilation of relevant course material to make a working data science project\n",
    "\n",
    "import pandas as pd\n",
    "import numpy as np\n",
    "import csv\n",
    "%precision 2\n",
    "\n",
    "#reading CSV into a list of dictionaries\n",
    "with open('mpg.csv') as csvfile:\n",
    "    mpg = list(csv.DictReader(csvfile))\n",
    "    \n",
    "#making a list of series from list of dicts\n",
    "mpgSeries = []\n",
    "for car in mpg:\n",
    "    mpgSeries.append(pd.Series(car))\n",
    "\n",
    "mpgSeries[233]"
   ]
  },
  {
   "cell_type": "code",
   "execution_count": null,
   "metadata": {},
   "outputs": [],
   "source": []
  }
 ],
 "metadata": {
  "kernelspec": {
   "display_name": "Python 3",
   "language": "python",
   "name": "python3"
  },
  "language_info": {
   "codemirror_mode": {
    "name": "ipython",
    "version": 3
   },
   "file_extension": ".py",
   "mimetype": "text/x-python",
   "name": "python",
   "nbconvert_exporter": "python",
   "pygments_lexer": "ipython3",
   "version": "3.6.8"
  }
 },
 "nbformat": 4,
 "nbformat_minor": 2
}
