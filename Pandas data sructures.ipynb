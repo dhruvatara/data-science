{
 "cells": [
  {
   "cell_type": "code",
   "execution_count": 16,
   "metadata": {},
   "outputs": [
    {
     "data": {
      "text/plain": [
       "5      4\n",
       "6      2\n",
       "7    571\n",
       "8     58\n",
       "9    983\n",
       "dtype: int64"
      ]
     },
     "execution_count": 16,
     "metadata": {},
     "output_type": "execute_result"
    }
   ],
   "source": [
    "#Series data structure: cross between list and dictionary, meaning that items are stored in an order and can be retrieved with a label, kinda like hashmap of java\n",
    "import pandas as pd\n",
    "nums = [4,2,571,58,983]\n",
    "numS = pd.Series(nums,index=[5,6,7,8])\n",
    "numS"
   ]
  },
  {
   "cell_type": "code",
   "execution_count": 15,
   "metadata": {},
   "outputs": [
    {
     "name": "stdout",
     "output_type": "stream",
     "text": [
      "True\n",
      "0    1.0\n",
      "1    2.0\n",
      "2    3.0\n",
      "3    4.0\n",
      "4    NaN\n",
      "dtype: float64\n"
     ]
    }
   ],
   "source": [
    "#python has None type to indicate lack of data\n",
    "#for strings it puts in None in the series but for numeric values it puts in NaN\n",
    "#NaNs are not comparable, can use np.isnan to find if a value is NaN\n",
    "\n",
    "nums = [1,2,3,4,None]\n",
    "words = ['hi','hello',None]\n",
    "n = np.nan\n",
    "print(np.isnan(n))\n",
    "print(pd.Series(nums))"
   ]
  },
  {
   "cell_type": "code",
   "execution_count": 10,
   "metadata": {},
   "outputs": [
    {
     "name": "stdout",
     "output_type": "stream",
     "text": [
      "0       hi\n",
      "1    hello\n",
      "2     None\n",
      "dtype: object\n"
     ]
    }
   ],
   "source": [
    "print(pd.Series(words))"
   ]
  },
  {
   "cell_type": "code",
   "execution_count": 19,
   "metadata": {},
   "outputs": [
    {
     "data": {
      "text/plain": [
       "                       1\n",
       "manufacturer        audi\n",
       "model                 a4\n",
       "displ                1.8\n",
       "year                1999\n",
       "cyl                    4\n",
       "trans           auto(l5)\n",
       "drv                    f\n",
       "cty                   18\n",
       "hwy                   29\n",
       "fl                     p\n",
       "class            compact\n",
       "dtype: object"
      ]
     },
     "execution_count": 19,
     "metadata": {},
     "output_type": "execute_result"
    }
   ],
   "source": [
    "import csv\n",
    "\n",
    "%precision 2\n",
    "\n",
    "with open('mpg.csv') as csvfile:\n",
    "    mpg = list(csv.DictReader(csvfile))\n",
    "\n",
    "trialS = pd.Series(mpg[0])\n",
    "trialS"
   ]
  },
  {
   "cell_type": "code",
   "execution_count": 24,
   "metadata": {},
   "outputs": [
    {
     "data": {
      "text/plain": [
       "Index(['', 'manufacturer', 'model', 'displ', 'year', 'cyl', 'trans', 'drv',\n",
       "       'cty', 'hwy', 'fl', 'class'],\n",
       "      dtype='object')"
      ]
     },
     "execution_count": 24,
     "metadata": {},
     "output_type": "execute_result"
    }
   ],
   "source": [
    "trialS.index\n"
   ]
  },
  {
   "cell_type": "code",
   "execution_count": 26,
   "metadata": {},
   "outputs": [
    {
     "data": {
      "text/plain": [
       "'compact'"
      ]
     },
     "execution_count": 26,
     "metadata": {},
     "output_type": "execute_result"
    }
   ],
   "source": [
    "#querying a Series: element can either be queried by index or by label- if no label given, then index and label are same thing\n",
    "#to query by index, we use iloc[]\n",
    "#to query by label, we use loc[]\n",
    "#iloc and loc are not methods, they are attributes\n",
    "trialS.loc['class']"
   ]
  },
  {
   "cell_type": "code",
   "execution_count": null,
   "metadata": {},
   "outputs": [],
   "source": []
  }
 ],
 "metadata": {
  "kernelspec": {
   "display_name": "Python 3",
   "language": "python",
   "name": "python3"
  },
  "language_info": {
   "codemirror_mode": {
    "name": "ipython",
    "version": 3
   },
   "file_extension": ".py",
   "mimetype": "text/x-python",
   "name": "python",
   "nbconvert_exporter": "python",
   "pygments_lexer": "ipython3",
   "version": "3.6.8"
  }
 },
 "nbformat": 4,
 "nbformat_minor": 2
}
